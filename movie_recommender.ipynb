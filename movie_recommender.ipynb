{
 "cells": [
  {
   "cell_type": "code",
   "execution_count": null,
   "id": "ece42622-e51a-42d9-a128-332a870f658a",
   "metadata": {},
   "outputs": [],
   "source": [
    "%matplotlib inline\n",
    "import numpy as np\n",
    "import pandas as pd\n",
    "import matplotlib.pyplot as plt\n",
    "from ast import literal_eval\n",
    "from nltk.stem.snowball import SnowballStemmer\n",
    "from sklearn.feature_extraction.text import TfidfVectorizer, CountVectorizer \n",
    "from sklearn.metrics.pairwise import linear_kernel, cosine_similarity\n",
    "\n",
    "import warnings;\n",
    "warnings.simplefilter('ignore')"
   ]
  },
  {
   "cell_type": "code",
   "execution_count": null,
   "id": "86655371-d0b8-4377-83b1-ec0fc7fdc757",
   "metadata": {},
   "outputs": [],
   "source": [
    "# basic recommender: we first try to recommend the top 10 movies based on ratings\n",
    "# filter for vote number greater than 100\n",
    "d_frame = pd.read_csv('./data/movies_metadata.csv')\n",
    "keywords = pd.read_csv('./data/keywords.csv')\n",
    "production = pd.read_csv('./data/credits.csv')\n",
    "d_frame['id'] = pd.to_numeric(d_frame['id'], errors=\"coerce\")\n",
    "keywords['id'] = pd.to_numeric(keywords['id'], errors=\"coerce\")\n",
    "production['id'] = pd.to_numeric(production['id'], errors=\"coerce\")\n",
    "\n",
    "d_frame = d_frame.dropna(subset=['id'])\n",
    "keywords = keywords.dropna(subset=['id'])\n",
    "production = production.dropna(subset=['id'])\n",
    "\n",
    "d_frame['id'] = d_frame['id'].astype('int')\n",
    "keywords['id'] = keywords['id'].astype('int')\n",
    "production['id'] = production['id'].astype('int')\n",
    "\n",
    "d_frame = pd.merge(d_frame, keywords, on='id')\n",
    "d_frame = pd.merge(d_frame, production, on='id')\n",
    "d_frame_byratings = d_frame[d_frame['vote_count'] > 100].sort_values('vote_average', ascending=[False])\n",
    "print(\"Top 10 of movies with more than 100 votes ranked by average user rating\")\n",
    "d_frame_byratings.head(10)"
   ]
  },
  {
   "cell_type": "code",
   "execution_count": null,
   "id": "7fb2829b-bd70-4827-82c2-b67a2eaf3d1d",
   "metadata": {
    "tags": []
   },
   "outputs": [],
   "source": [
    "def director_and_writer(crew):\n",
    "    crew_arr = []\n",
    "    for rec in crew:\n",
    "        if rec['job'] == 'Director' or rec['job'] == 'Screenplay':\n",
    "            crew_arr.append(rec['name'].lower().replace(\" \", \"\"))\n",
    "    return crew_arr"
   ]
  },
  {
   "cell_type": "code",
   "execution_count": null,
   "id": "be86dd7a-7a36-4a73-8b6d-81f3c11e143f",
   "metadata": {
    "tags": []
   },
   "outputs": [],
   "source": [
    "# we only consider movies with more than 75% quantile of the votes  \n",
    "v_counts = d_frame[d_frame['vote_count'].notnull()]['vote_count'].astype('int')\n",
    "v_averages = d_frame[d_frame['vote_average'].notnull()]['vote_average'].astype('int')\n",
    "v_75q = v_counts.quantile(0.75)\n",
    "v_70q = v_counts.quantile(0.70)\n",
    "count_threshold = v_counts.quantile(0.90)\n",
    "\n",
    "# next we filter the movies by count of votes \n",
    "movies_v75q = d_frame[(d_frame['vote_count'].notnull()) & (d_frame['vote_count'] >= v_75q)]\n",
    "filtered_movies = d_frame[(d_frame['vote_count'].notnull()) & (((d_frame['vote_count'] >= count_threshold) & (d_frame['vote_average'] >= 6.0)) | ((d_frame['vote_count'] >= v_70q) & (d_frame['vote_average'] >= 7.0)))]\n",
    "\n",
    "# create base data frame based on movies_v75q\n",
    "base_df = movies_v75q[['id','title', 'original_title', 'genres', 'release_date', 'vote_average', 'vote_count', 'tagline', 'overview', 'keywords', 'crew']]\n",
    "base_df_pv = filtered_movies[['id','title', 'genres', 'overview', 'tagline', 'vote_count', 'vote_average', 'keywords', 'crew', 'production_countries', 'production_companies']]\n",
    "print(base_df_pv.shape)\n",
    "\n",
    "# process genres column to make only names appear \n",
    "base_df['genres'] = base_df['genres'].fillna('[]').apply(literal_eval).apply(lambda x: [i['name'] for i in x] if isinstance(x, list) else [])\n",
    "base_df_pv['genres'] = base_df_pv['genres'].fillna('[]').apply(literal_eval).apply(lambda x: [i['name'] for i in x] if isinstance(x, list) else [])\n",
    "\n",
    "# process keywords column to make it only the tags\n",
    "w_snow = SnowballStemmer('english')\n",
    "base_df['keywords'] = base_df['keywords'].fillna('[]').apply(literal_eval).apply(lambda x: [j['name'] for j in x] if isinstance(x, list) else [])\n",
    "base_df_pv['keywords'] = base_df_pv['keywords'].fillna('[]').apply(literal_eval).apply(lambda x: [j['name'] for j in x] if isinstance(x, list) else [])\n",
    "base_df_pv['keywords'] = base_df_pv['keywords'].apply(lambda x: [w_snow.stem(w) for w in x])\n",
    "\n",
    "# process crew to make it only director and writer \n",
    "# base_df['crew'] = base_df['crew'].fillna('[]').apply(literal_eval).apply(director_and_writer)\n",
    "base_df_pv['crew'] = base_df_pv['crew'].fillna('[]').apply(literal_eval).apply(director_and_writer)\n",
    "\n",
    "# process production_countries to make it only the country names\n",
    "# base_df['countries'] = base_df['production_countries'].fillna('[]').apply(literal_eval).apply(lambda x: [i['name'] for i in x] if isinstance(x, list) else [])\n",
    "base_df_pv['production_countries'] = base_df_pv['production_countries'].fillna('[]').apply(literal_eval).apply(lambda x: [i['name'].lower().replace(\" \", \"\") for i in x] if isinstance(x, list) else [])\n",
    "\n",
    "# process production_companies to make it only the company and studio names\n",
    "# base_df['studios'] = base_df['production_companies'].fillna('[]').apply(literal_eval).apply(lambda x: [i['name'] for i in x] if isinstance(x, list) else [])\n",
    "base_df_pv['production_companies'] = base_df_pv['production_companies'].fillna('[]').apply(literal_eval).apply(lambda x: [i['name'].lower().replace(\" \", \"\") for i in x] if isinstance(x, list) else [])\n",
    "\n",
    "# find the top movies by vote_average\n",
    "df_by_va = base_df_pv.sort_values('vote_average', ascending=[False])\n",
    "\n",
    "# find the top movies by number of votes \n",
    "df_by_nv = base_df_pv.sort_values('vote_count', ascending=[False])\n",
    "\n",
    "# compute the median score of movies_v75q\n",
    "median_rating = base_df_pv['vote_average'].median()\n",
    "\n",
    "# Use Bayesian average to compute a combined measure for average user rating + popularity \n",
    "overall_average_rating = base_df_pv['vote_average'].mean()\n",
    "\n",
    "average_counts = base_df_pv['vote_count'].mean()\n",
    "\n",
    "global_c = average_counts * overall_average_rating\n",
    "\n",
    "def bayesian_average(mrow):\n",
    "    cur_movie_rating = mrow['vote_average']\n",
    "    total_votes = mrow['vote_count']\n",
    "    b_avg = ((cur_movie_rating * total_votes) + global_c) / (average_counts + total_votes)\n",
    "    return b_avg\n",
    "\n",
    "base_df_pv['bavg_rating'] = base_df_pv.apply(bayesian_average, axis=1)\n",
    "\n",
    "df_by_bavg = base_df_pv.sort_values('bavg_rating', ascending=[False])"
   ]
  },
  {
   "cell_type": "code",
   "execution_count": null,
   "id": "187e2f22-5aa5-43a1-9662-1a21a68bfcb1",
   "metadata": {
    "tags": []
   },
   "outputs": [],
   "source": [
    "# base_df.iloc[0][10]"
   ]
  },
  {
   "cell_type": "code",
   "execution_count": null,
   "id": "719535d5-b219-4153-b220-1fea44a17ef0",
   "metadata": {
    "tags": []
   },
   "outputs": [],
   "source": [
    "# top 10 movies by average ratings \n",
    "print(\"Top 10 movies from all genres by average ratings:\")\n",
    "df_by_va.head(10)"
   ]
  },
  {
   "cell_type": "code",
   "execution_count": null,
   "id": "9b685bef-d200-4c1f-bf87-1824633d388f",
   "metadata": {
    "tags": []
   },
   "outputs": [],
   "source": [
    "# top 10 movies by number of ratings \n",
    "print(\"Top 10 movies from all genres by number of ratings (popularity)\")\n",
    "df_by_nv.head(10)"
   ]
  },
  {
   "cell_type": "code",
   "execution_count": null,
   "id": "04f9eaea-aed2-4ae3-80bd-69aac8772853",
   "metadata": {
    "tags": []
   },
   "outputs": [],
   "source": [
    "# top 10 movies by Bayesian average of popularity and ratings \n",
    "print(\"Top 10 movies from all genres by the Bayesian average of popularity and ratings \")\n",
    "df_by_bavg.head(10)"
   ]
  },
  {
   "cell_type": "code",
   "execution_count": null,
   "id": "690da281-0d1b-41b9-b264-fa261ad45772",
   "metadata": {
    "tags": []
   },
   "outputs": [],
   "source": [
    "# a method to recommend the top movies from each genre \n",
    "def movies_by_genre(genre, query_type):\n",
    "    match query_type:\n",
    "        case \"popularity\":\n",
    "            result = df_by_nv[(df_by_nv[\"genres\"].notnull()) & (df_by_nv[\"genres\"].apply(lambda x: genre in x))]\n",
    "            return result\n",
    "        case \"ratings\":\n",
    "            result = df_by_va[(df_by_nv[\"genres\"].notnull()) & (df_by_va[\"genres\"].apply(lambda x: genre in x))]\n",
    "            return result \n",
    "        case \"bayesian\":\n",
    "            result = df_by_bavg[(df_by_nv[\"genres\"].notnull()) & (df_by_bavg[\"genres\"].apply(lambda x: genre in x))]\n",
    "            return result \n",
    "\n",
    "# get top romance movies \n",
    "movies_by_genre('Romance', 'ratings').head(10)"
   ]
  },
  {
   "cell_type": "code",
   "execution_count": null,
   "id": "df6d8247-c6e2-4643-b286-e99899540afb",
   "metadata": {},
   "outputs": [],
   "source": [
    "# next, we build a content-based recommender on the base movies \n",
    "# we use overview + keywords + tagline for the basis of our comparison \n",
    "print(base_df_pv.shape)\n",
    "base_df_pv['overview'] = base_df_pv['overview'].fillna('')\n",
    "base_df_pv['tagline'] = base_df_pv['tagline'].fillna('')\n",
    "base_df_pv['kw_str'] = base_df_pv['keywords'].apply(lambda x: ' '.join(x))\n",
    "base_df_pv['genres_str'] = base_df_pv['genres'].apply(lambda x: ' '.join(x))\n",
    "base_df_pv['crew_str'] = base_df_pv['crew'].apply(lambda x: ' '.join(x))\n",
    "base_df_pv['countries_str'] = base_df_pv['production_countries'].apply(lambda x: ' '.join(x))\n",
    "base_df_pv['studios_str'] = base_df_pv['production_companies'].apply(lambda x: ' '.join(x))\n",
    "base_df_pv['desc'] = base_df_pv['overview'] + ' ' + base_df_pv['tagline'] + ' ' + base_df_pv['kw_str'] + ' ' + base_df_pv['genres_str'] + ' ' + base_df_pv['crew_str'] + ' ' + base_df_pv['countries_str']\n",
    "# base_df_pv['overview'] + ' ' + + base_df_pv['genres_str'] + ' '\n",
    "tfid_vec = TfidfVectorizer(analyzer='word', ngram_range=(1,3), stop_words='english')\n",
    "tfid_vec.fit(base_df_pv['desc'])\n",
    "df_matrix = tfid_vec.transform(base_df_pv['desc'])\n",
    "\n",
    "# calculate the cosine similarity score between each movie \n",
    "cos_score = linear_kernel(df_matrix, df_matrix)"
   ]
  },
  {
   "cell_type": "code",
   "execution_count": null,
   "id": "59c9d6ee-c166-4425-89a2-26288ae29d29",
   "metadata": {
    "tags": []
   },
   "outputs": [],
   "source": [
    "df_matrix.shape"
   ]
  },
  {
   "cell_type": "code",
   "execution_count": null,
   "id": "bc793b4c-44d4-477c-94b4-c653f37b949e",
   "metadata": {
    "tags": []
   },
   "outputs": [],
   "source": [
    "cos_score[0]"
   ]
  },
  {
   "cell_type": "code",
   "execution_count": null,
   "id": "37ff1140-238e-4de7-b1ff-a3534e4e6194",
   "metadata": {
    "tags": []
   },
   "outputs": [],
   "source": [
    "#base_df_pv[base_df_pv['title'] == 'Toy Story']\n",
    "base_df_pv[base_df_pv['title'] == 'Your Name.']"
   ]
  },
  {
   "cell_type": "code",
   "execution_count": null,
   "id": "6216942a-445c-4301-866a-1c5d4137c809",
   "metadata": {
    "tags": []
   },
   "outputs": [],
   "source": [
    "base_df_pv[base_df_pv['title'] == 'Brokeback Mountain']"
   ]
  },
  {
   "cell_type": "code",
   "execution_count": null,
   "id": "e6449915-3dbc-4572-9591-a3390d9c1f5e",
   "metadata": {
    "tags": []
   },
   "outputs": [],
   "source": [
    "base_df_pv[base_df_pv['title'] == 'After the Wedding']"
   ]
  },
  {
   "cell_type": "code",
   "execution_count": null,
   "id": "529a317f-1168-4138-bdfe-41b3406da7fa",
   "metadata": {},
   "outputs": [],
   "source": [
    "base_df_pv = base_df_pv.reset_index()\n",
    "movie_ids = base_df_pv['title']\n",
    "indices = pd.Series(base_df_pv.index, index=base_df_pv['title'])\n",
    "def sim_movies_by_desc(movie_id):\n",
    "    idx = indices[movie_id]\n",
    "    scores = sorted(list(enumerate(cos_score[idx])), key=lambda x: x[1], reverse=True)\n",
    "    top_match = scores[1:26]\n",
    "    movie_indices = [m[0] for m in top_match]\n",
    "    return base_df_pv.iloc[movie_indices]"
   ]
  },
  {
   "cell_type": "code",
   "execution_count": null,
   "id": "c68c072c-7d92-4b16-95d9-f65d8f968455",
   "metadata": {
    "tags": []
   },
   "outputs": [],
   "source": [
    "sim_movies_by_desc('Castle in the Sky').head(25)"
   ]
  },
  {
   "cell_type": "code",
   "execution_count": null,
   "id": "3adcdd5e-6541-4586-9e80-eef75d5a2f2b",
   "metadata": {},
   "outputs": [],
   "source": [
    "# come up with custom similarity scores on a scale of 1 - 10 on the top 25 movies returned \n",
    "def calculate_score(target_movie, src_kw, src_gr, src_st):\n",
    "    # source movie is the movie we wish to find similar movies for\n",
    "    # we take the keyword (25%), genres (25%) studios (25%), and ratings (25%) into consideration\n",
    "    kw_sim = (len(np.intersect1d(src_kw, target_movie['keywords'])) / len(src_kw)) * 3.33\n",
    "    gr_sim = (len(np.intersect1d(src_gr, target_movie['genres'])) / len(src_gr)) * 3.33\n",
    "    st_sim = (len(np.intersect1d(src_st, target_movie['production_companies'])) / len(src_st)) * 3.33\n",
    "    overall_sim = kw_sim + gr_sim + st_sim \n",
    "    return overall_sim"
   ]
  },
  {
   "cell_type": "code",
   "execution_count": null,
   "id": "c108a7bf-7283-4d3f-8fab-cb29416ec3ba",
   "metadata": {
    "tags": []
   },
   "outputs": [],
   "source": [
    "def find_matches(movie_title):\n",
    "    target_movies = sim_movies_by_desc(movie_title).head(25)\n",
    "    # find similaritie score for the movies returned \n",
    "    src = base_df_pv[base_df_pv['title'] == movie_title]\n",
    "    target_movies['s_score'] = target_movies.apply(calculate_score, axis=1, args=(src['keywords'].to_list(), src['genres'].to_list(), src['production_companies'].to_list()))\n",
    "    # sort by sim_score \n",
    "    sorted_list = target_movies.sort_values(by=['s_score'], ascending=False)\n",
    "    return sorted_list.head(20)"
   ]
  },
  {
   "cell_type": "code",
   "execution_count": null,
   "id": "d9c1ef2e-3da0-4c31-bd5d-783479201395",
   "metadata": {
    "tags": []
   },
   "outputs": [],
   "source": [
    "find_matches('A Brighter Summer Day')"
   ]
  },
  {
   "cell_type": "code",
   "execution_count": null,
   "id": "2683577a-39d1-482b-a7a7-e3a9e61ce75e",
   "metadata": {},
   "outputs": [],
   "source": []
  }
 ],
 "metadata": {
  "kernelspec": {
   "display_name": "Python 3 (ipykernel)",
   "language": "python",
   "name": "python3"
  },
  "language_info": {
   "codemirror_mode": {
    "name": "ipython",
    "version": 3
   },
   "file_extension": ".py",
   "mimetype": "text/x-python",
   "name": "python",
   "nbconvert_exporter": "python",
   "pygments_lexer": "ipython3",
   "version": "3.11.4"
  }
 },
 "nbformat": 4,
 "nbformat_minor": 5
}
